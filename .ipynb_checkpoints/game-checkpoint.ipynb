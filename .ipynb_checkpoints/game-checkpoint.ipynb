{
 "cells": [
  {
   "cell_type": "code",
   "execution_count": 1,
   "metadata": {},
   "outputs": [
    {
     "name": "stdout",
     "output_type": "stream",
     "text": [
      "pygame 1.9.6\n",
      "Hello from the pygame community. https://www.pygame.org/contribute.html\n"
     ]
    }
   ],
   "source": [
    "import pygame\n",
    "import sys\n",
    "from time import sleep\n",
    "import random\n",
    "\n",
    "# COLORS\n",
    "white = (255, 255, 255)\n",
    "black = (0, 0, 0)\n",
    "red = (255, 0, 0)\n",
    "green = (0, 255, 0)\n",
    "blue = (0, 0, 255)\n",
    "purple = (255, 0, 255)\n",
    "\n",
    "class Env:\n",
    "    def __init__(self, \n",
    "                 game_dims=(1000, 800)):\n",
    "        \n",
    "        pygame.init()\n",
    "        self.play = True\n",
    "        \n",
    "        # GAME DIMENSIONS\n",
    "        self.game_dims = game_dims\n",
    "\n",
    "        # GRAVITY\n",
    "        self.gravityPull = 0.5\n",
    "        self.gravityCurrent = 0\n",
    "        self.xCurrent = 0\n",
    "\n",
    "        # JUMPS\n",
    "        self.jumps = 0\n",
    "        self.maxJumps = 2\n",
    "\n",
    "        self.ypos = 100\n",
    "        self.xpos = 400\n",
    "\n",
    "        self.touchingObst = 0\n",
    "\n",
    "        self.startingXPos = [100, 100, 100, 100]\n",
    "        self.startingYPos = [200, 200, 100, 100]\n",
    "\n",
    "        self.level1Door = [800, 000, 100, 900]\n",
    "        self.level = 1\n",
    "        self.upperLevel = 0\n",
    "    \n",
    "    # CONTROL MOVEMENTS\n",
    "    def execute(self):\n",
    "        action = None\n",
    "        events = pygame.event.get()\n",
    "        for event in events:\n",
    "            if event.type == pygame.KEYDOWN:\n",
    "                if event.key == pygame.K_SPACE:\n",
    "                    action = 2\n",
    "                if event.key == pygame.K_LEFT and self.touchingObst == 0:\n",
    "                    action = 0\n",
    "                if event.key == pygame.K_RIGHT and self.touchingObst == 0:\n",
    "                    action = 1\n",
    "                if event.type == pygame.QUIT:\n",
    "                    pygame.display.quit()\n",
    "                    quit()\n",
    "                    action = -1\n",
    "        return action\n",
    "    def jump(self):\n",
    "        if self.jumps < self.maxJumps:\n",
    "            self.gravityCurrent = -10\n",
    "            self.jumps = self.jumps + 1\n",
    "    def left(self):\n",
    "        if self.touchingObst == 0:\n",
    "            self.xCurrent = -10\n",
    "    def right(self):\n",
    "        if self.touchingObst == 0:\n",
    "            self.xCurrent = 10\n",
    "            \n",
    "    def test_agent(self):\n",
    "        run = True\n",
    "        while run:\n",
    "            sleep(0.001)\n",
    "            action = self.execute()\n",
    "            if action == -1:\n",
    "                break\n",
    "            self.step(action)\n",
    "\n",
    "    def step(self, action):\n",
    "        if action == 0:\n",
    "            self.left()\n",
    "        elif action == 1:\n",
    "            self.right()\n",
    "        elif action == 2:\n",
    "            self.jump()\n",
    "        \n",
    "        # CONTROL GRAVITY\n",
    "        self.gravityCurrent = self.gravityCurrent + self.gravityPull\n",
    "\n",
    "        # RATE OF DECREASE OF LEFT/RIGHT MOVEMENTS\n",
    "        if self.xCurrent > 0:\n",
    "            self.xCurrent = self.xCurrent - 0.5\n",
    "        if self.xCurrent < 0:\n",
    "            self.xCurrent = self.xCurrent + 0.5\n",
    "\n",
    "        # UPDATE XY COORDINATES\n",
    "        self.ypos = self.ypos + self.gravityCurrent\n",
    "        self.xpos = self.xpos + self.xCurrent\n",
    "\n",
    "        # BOUNDARIES\n",
    "        if self.upperLevel == 0:\n",
    "            if self.xpos > 950:\n",
    "                self.xpos = 950\n",
    "            if self.xpos < 000:\n",
    "                self.xpos = 000\n",
    "            if self.ypos > 750:\n",
    "                self.ypos = 751\n",
    "                self.gravityCurrent = 0\n",
    "                self.jumps = 0\n",
    "\n",
    "\n",
    "        gameDisplay = pygame.display.set_mode(self.game_dims, 0, 32)\n",
    "        gameDisplay.fill(white)\n",
    "        pygame.draw.rect(gameDisplay, red, (self.xpos, self.ypos, 50, 50))\n",
    "        pygame.font.init()\n",
    "\n",
    "        # pygame.draw.rect(gameDisplay, green, level1Door)\n",
    "        myFont = pygame.font.SysFont('Futura PT Light', 60)\n",
    "        textsurface = myFont.render('The Chosen One', False, black)\n",
    "        gameDisplay.blit(textsurface, (200,200))\n",
    "        pygame.display.update()\n",
    "        \n",
    "    def getGameState(self):\n",
    "        values = [\n",
    "            self.gravityCurrent,\n",
    "            self.xCurrent,\n",
    "            self.jumps,\n",
    "            self.ypos,\n",
    "            self.xpos,\n",
    "            self.touchingObst,\n",
    "        ]\n",
    "        return values\n",
    "    \n",
    "    def reset(self):\n",
    "        \"\"\"Resets the game. Returns (reward, state, done).\"\"\"\n",
    "        self.__init__()\n",
    "        return (1, self.getGameState(), False)"
   ]
  },
  {
   "cell_type": "code",
   "execution_count": 2,
   "metadata": {},
   "outputs": [],
   "source": [
    "env = Env()"
   ]
  },
  {
   "cell_type": "code",
   "execution_count": null,
   "metadata": {},
   "outputs": [
    {
     "name": "stderr",
     "output_type": "stream",
     "text": [
      "Traceback (most recent call last):\n",
      "  File \"C:\\Users\\notes\\Anaconda3\\envs\\the-chosen-one\\lib\\site-packages\\pygame\\pkgdata.py\", line 50, in getResource\n",
      "    if resource_exists(pkgname, identifier):\n",
      "  File \"C:\\Users\\notes\\Anaconda3\\envs\\the-chosen-one\\lib\\site-packages\\pkg_resources\\__init__.py\", line 1134, in resource_exists\n",
      "    return get_provider(package_or_requirement).has_resource(resource_name)\n",
      "  File \"C:\\Users\\notes\\Anaconda3\\envs\\the-chosen-one\\lib\\site-packages\\pkg_resources\\__init__.py\", line 1404, in has_resource\n",
      "    return self._has(self._fn(self.module_path, resource_name))\n",
      "  File \"C:\\Users\\notes\\Anaconda3\\envs\\the-chosen-one\\lib\\site-packages\\pkg_resources\\__init__.py\", line 1604, in _has\n",
      "    return os.path.exists(path)\n",
      "  File \"C:\\Users\\notes\\Anaconda3\\envs\\the-chosen-one\\lib\\genericpath.py\", line 19, in exists\n",
      "    os.stat(path)\n",
      "KeyboardInterrupt\n"
     ]
    }
   ],
   "source": [
    "env.test_agent()"
   ]
  },
  {
   "cell_type": "code",
   "execution_count": 4,
   "metadata": {},
   "outputs": [
    {
     "ename": "KeyboardInterrupt",
     "evalue": "",
     "output_type": "error",
     "traceback": [
      "\u001b[1;31m---------------------------------------------------------------------------\u001b[0m",
      "\u001b[1;31mKeyboardInterrupt\u001b[0m                         Traceback (most recent call last)",
      "\u001b[1;32m<ipython-input-4-550017c4d6d9>\u001b[0m in \u001b[0;36m<module>\u001b[1;34m\u001b[0m\n\u001b[0;32m      1\u001b[0m \u001b[1;32mwhile\u001b[0m \u001b[1;32mTrue\u001b[0m\u001b[1;33m:\u001b[0m\u001b[1;33m\u001b[0m\u001b[1;33m\u001b[0m\u001b[0m\n\u001b[0;32m      2\u001b[0m     \u001b[0mn\u001b[0m \u001b[1;33m=\u001b[0m \u001b[0mrandom\u001b[0m\u001b[1;33m.\u001b[0m\u001b[0mrandint\u001b[0m\u001b[1;33m(\u001b[0m\u001b[1;36m0\u001b[0m\u001b[1;33m,\u001b[0m\u001b[1;36m2\u001b[0m\u001b[1;33m)\u001b[0m\u001b[1;33m\u001b[0m\u001b[1;33m\u001b[0m\u001b[0m\n\u001b[1;32m----> 3\u001b[1;33m     \u001b[0menv\u001b[0m\u001b[1;33m.\u001b[0m\u001b[0mstep\u001b[0m\u001b[1;33m(\u001b[0m\u001b[0mn\u001b[0m\u001b[1;33m)\u001b[0m\u001b[1;33m\u001b[0m\u001b[1;33m\u001b[0m\u001b[0m\n\u001b[0m",
      "\u001b[1;32m<ipython-input-2-33f34091c424>\u001b[0m in \u001b[0;36mstep\u001b[1;34m(self, action)\u001b[0m\n\u001b[0;32m    120\u001b[0m         \u001b[0mgameDisplay\u001b[0m\u001b[1;33m.\u001b[0m\u001b[0mblit\u001b[0m\u001b[1;33m(\u001b[0m\u001b[0mtextsurface\u001b[0m\u001b[1;33m,\u001b[0m \u001b[1;33m(\u001b[0m\u001b[1;36m200\u001b[0m\u001b[1;33m,\u001b[0m\u001b[1;36m200\u001b[0m\u001b[1;33m)\u001b[0m\u001b[1;33m)\u001b[0m\u001b[1;33m\u001b[0m\u001b[1;33m\u001b[0m\u001b[0m\n\u001b[0;32m    121\u001b[0m         \u001b[0mpygame\u001b[0m\u001b[1;33m.\u001b[0m\u001b[0mdisplay\u001b[0m\u001b[1;33m.\u001b[0m\u001b[0mupdate\u001b[0m\u001b[1;33m(\u001b[0m\u001b[1;33m)\u001b[0m\u001b[1;33m\u001b[0m\u001b[1;33m\u001b[0m\u001b[0m\n\u001b[1;32m--> 122\u001b[1;33m         \u001b[0msleep\u001b[0m\u001b[1;33m(\u001b[0m\u001b[1;36m0.01\u001b[0m\u001b[1;33m)\u001b[0m\u001b[1;33m\u001b[0m\u001b[1;33m\u001b[0m\u001b[0m\n\u001b[0m\u001b[0;32m    123\u001b[0m \u001b[1;33m\u001b[0m\u001b[0m\n\u001b[0;32m    124\u001b[0m     \u001b[1;32mdef\u001b[0m \u001b[0mgetGameState\u001b[0m\u001b[1;33m(\u001b[0m\u001b[0mself\u001b[0m\u001b[1;33m)\u001b[0m\u001b[1;33m:\u001b[0m\u001b[1;33m\u001b[0m\u001b[1;33m\u001b[0m\u001b[0m\n",
      "\u001b[1;31mKeyboardInterrupt\u001b[0m: "
     ]
    }
   ],
   "source": [
    "while True:\n",
    "    n = random.randint(0,2)\n",
    "    env.step(n)"
   ]
  },
  {
   "cell_type": "code",
   "execution_count": 1,
   "metadata": {},
   "outputs": [],
   "source": []
  },
  {
   "cell_type": "code",
   "execution_count": null,
   "metadata": {},
   "outputs": [],
   "source": []
  }
 ],
 "metadata": {
  "kernelspec": {
   "display_name": "the-chosen-one",
   "language": "python",
   "name": "the-chosen-one"
  },
  "language_info": {
   "codemirror_mode": {
    "name": "ipython",
    "version": 3
   },
   "file_extension": ".py",
   "mimetype": "text/x-python",
   "name": "python",
   "nbconvert_exporter": "python",
   "pygments_lexer": "ipython3",
   "version": "3.7.4"
  }
 },
 "nbformat": 4,
 "nbformat_minor": 2
}
