{
 "cells": [
  {
   "cell_type": "code",
   "execution_count": 676,
   "metadata": {},
   "outputs": [],
   "source": [
    "import pygame\n",
    "import sys\n",
    "from time import sleep\n",
    "import random\n",
    "\n",
    "# COLORS\n",
    "white = (255, 255, 255)\n",
    "black = (0, 0, 0)\n",
    "red = (255, 0, 0)\n",
    "green = (0, 255, 0)\n",
    "blue = (0, 0, 255)\n",
    "purple = (255, 0, 255)\n",
    "\n",
    "class Env:\n",
    "    def __init__(self, \n",
    "                 game_dims=(1000, 800)):\n",
    "        \n",
    "        pygame.init()\n",
    "        self.play = True\n",
    "        \n",
    "        # GAME DIMENSIONS\n",
    "        self.game_dims = game_dims\n",
    "\n",
    "        # GRAVITY\n",
    "        self.gravityPull = 0.5\n",
    "        self.gravityCurrent = 0\n",
    "        self.xCurrent = 0\n",
    "\n",
    "        # JUMPS\n",
    "        self.jumps = 0\n",
    "        self.maxJumps = 2\n",
    "\n",
    "        self.ypos = 100\n",
    "        self.xpos = 400\n",
    "\n",
    "        self.touchingObst = 0\n",
    "\n",
    "        self.startingXPos = [100, 100, 100, 100]\n",
    "        self.startingYPos = [200, 200, 100, 100]\n",
    "\n",
    "        self.level1Door = [800, 000, 100, 900]\n",
    "        self.level = 1\n",
    "        self.upperLevel = 0\n",
    "        \n",
    "    def jump(self):\n",
    "        if self.jumps < self.maxJumps:\n",
    "            self.gravityCurrent = -10\n",
    "            self.jumps = self.jumps + 1\n",
    "    def left(self):\n",
    "        if self.touchingObst == 0:\n",
    "            self.xCurrent = -10\n",
    "    def right(self):\n",
    "        if self.touchingObst == 0:\n",
    "            self.xCurrent = 10\n",
    "\n",
    "    def step(self, action):\n",
    "        if action == 0:\n",
    "            self.left()\n",
    "        elif action == 1:\n",
    "            self.right()\n",
    "        elif action == 2:\n",
    "            self.jump()\n",
    "        \n",
    "        # CONTROL GRAVITY\n",
    "        self.gravityCurrent = self.gravityCurrent + self.gravityPull\n",
    "\n",
    "        # RATE OF DECREASE OF LEFT/RIGHT MOVEMENTS\n",
    "        if self.xCurrent > 0:\n",
    "            self.xCurrent = self.xCurrent - 0.5\n",
    "        if self.xCurrent < 0:\n",
    "            self.xCurrent = self.xCurrent + 0.5\n",
    "\n",
    "        # UPDATE XY COORDINATES\n",
    "        self.ypos = self.ypos + self.gravityCurrent\n",
    "        self.xpos = self.xpos + self.xCurrent\n",
    "\n",
    "        # BOUNDARIES\n",
    "        if self.upperLevel == 0:\n",
    "            if self.xpos > 950:\n",
    "                self.xpos = 950\n",
    "            if self.xpos < 000:\n",
    "                self.xpos = 000\n",
    "            if self.ypos > 750:\n",
    "                self.ypos = 751\n",
    "                self.gravityCurrent = 0\n",
    "                self.jumps = 0\n",
    "\n",
    "\n",
    "        gameDisplay = pygame.display.set_mode(self.game_dims, 0, 32)\n",
    "        gameDisplay.fill(white)\n",
    "        pygame.draw.rect(gameDisplay, red, (self.xpos, self.ypos, 50, 50))\n",
    "        pygame.font.init()\n",
    "\n",
    "        # pygame.draw.rect(gameDisplay, green, level1Door)\n",
    "        myFont = pygame.font.SysFont('Futura PT Light', 60)\n",
    "        textsurface = myFont.render('The Chosen One', False, black)\n",
    "        gameDisplay.blit(textsurface, (200,200))\n",
    "        pygame.display.update()\n",
    "        sleep(0.01)\n",
    "        \n",
    "    def getGameState(self):\n",
    "        values = [\n",
    "            self.gravityCurrent,\n",
    "            self.xCurrent,\n",
    "            self.jumps,\n",
    "            self.ypos,\n",
    "            self.xpos,\n",
    "            self.touchingObst,\n",
    "        ]\n",
    "        return values\n",
    "    \n",
    "    def reset(self):\n",
    "        \"\"\"Resets the game. Returns (reward, state, done).\"\"\"\n",
    "        self.__init__()\n",
    "        return (1, self.getGameState(), False)"
   ]
  },
  {
   "cell_type": "code",
   "execution_count": 677,
   "metadata": {},
   "outputs": [],
   "source": [
    "env = Env()"
   ]
  },
  {
   "cell_type": "code",
   "execution_count": 688,
   "metadata": {},
   "outputs": [
    {
     "name": "stdout",
     "output_type": "stream",
     "text": [
      "[2.0, 9.5, 0, 105.0, 400.0, 0]\n"
     ]
    }
   ],
   "source": [
    "action = random.randint(0, 2)\n",
    "print(env.getGameState())\n",
    "env.step(action)"
   ]
  },
  {
   "cell_type": "code",
   "execution_count": 689,
   "metadata": {},
   "outputs": [
    {
     "data": {
      "text/plain": [
       "(1, [0, 0, 0, 100, 400, 0], False)"
      ]
     },
     "execution_count": 689,
     "metadata": {},
     "output_type": "execute_result"
    }
   ],
   "source": [
    "env.reset()"
   ]
  },
  {
   "cell_type": "code",
   "execution_count": null,
   "metadata": {},
   "outputs": [],
   "source": []
  },
  {
   "cell_type": "code",
   "execution_count": null,
   "metadata": {},
   "outputs": [],
   "source": []
  }
 ],
 "metadata": {
  "kernelspec": {
   "display_name": "the-chosen-one",
   "language": "python",
   "name": "the-chosen-one"
  },
  "language_info": {
   "codemirror_mode": {
    "name": "ipython",
    "version": 3
   },
   "file_extension": ".py",
   "mimetype": "text/x-python",
   "name": "python",
   "nbconvert_exporter": "python",
   "pygments_lexer": "ipython3",
   "version": "3.7.4"
  }
 },
 "nbformat": 4,
 "nbformat_minor": 2
}
